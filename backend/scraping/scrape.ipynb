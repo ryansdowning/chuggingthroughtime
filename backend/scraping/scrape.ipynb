{
 "cells": [
  {
   "cell_type": "code",
   "execution_count": 9,
   "metadata": {},
   "outputs": [],
   "source": [
    "from bs4 import BeautifulSoup\n",
    "import requests\n",
    "import os\n",
    "from pathlib import Path\n",
    "\n",
    "path_prefix = \"dump/\""
   ]
  },
  {
   "cell_type": "code",
   "execution_count": 12,
   "metadata": {},
   "outputs": [
    {
     "name": "stdout",
     "output_type": "stream",
     "text": [
      "Already downloaded\n"
     ]
    }
   ],
   "source": [
    "def download_track_pages():\n",
    "    base_url = \"http://www.streamlinerschedules.com/\"\n",
    "    track_pages = [f\"concourse/track{i}\" for i in range(1, 13)]\n",
    "    for page in track_pages:\n",
    "        Path(path_prefix + page).mkdir(exist_ok=True, parents=True)\n",
    "        with open(f\"{path_prefix}{page}/index.html\", \"wb+\") as f:\n",
    "            f.write(requests.get(f\"{base_url}{page}/index.html\").content)\n",
    "\n",
    "check_file = Path(f\"{path_prefix}/concourse/track1/index.html\")\n",
    "\n",
    "if check_file.exists() and check_file.stat().st_size > 0:\n",
    "    print(\"Already downloaded\")\n",
    "else:\n",
    "    # download_track_pages()\n",
    "    pass"
   ]
  },
  {
   "cell_type": "code",
   "execution_count": 19,
   "metadata": {},
   "outputs": [
    {
     "data": {
      "text/plain": [
       "['http://www.streamlinerschedules.com/concourse/track1/index.html',\n",
       " 'http://www.streamlinerschedules.com/concourse/track2/index.html',\n",
       " 'http://www.streamlinerschedules.com/concourse/track3/index.html',\n",
       " 'http://www.streamlinerschedules.com/concourse/track4/index.html',\n",
       " 'http://www.streamlinerschedules.com/concourse/track5/index.html',\n",
       " 'http://www.streamlinerschedules.com/concourse/track6/index.html',\n",
       " 'http://www.streamlinerschedules.com/concourse/track7/index.html',\n",
       " 'http://www.streamlinerschedules.com/concourse/track8/index.html',\n",
       " 'http://www.streamlinerschedules.com/concourse/track9/index.html',\n",
       " 'http://www.streamlinerschedules.com/concourse/track10/index.html',\n",
       " 'http://www.streamlinerschedules.com/concourse/track11/index.html',\n",
       " 'http://www.streamlinerschedules.com/concourse/track12/index.html']"
      ]
     },
     "execution_count": 19,
     "metadata": {},
     "output_type": "execute_result"
    }
   ],
   "source": []
  },
  {
   "cell_type": "code",
   "execution_count": 8,
   "metadata": {},
   "outputs": [
    {
     "data": {
      "text/plain": [
       "'/home/peterpie123/chuggingthroughtime/backend/scraping'"
      ]
     },
     "execution_count": 8,
     "metadata": {},
     "output_type": "execute_result"
    }
   ],
   "source": [
    "os.getcwd()"
   ]
  }
 ],
 "metadata": {
  "kernelspec": {
   "display_name": "Python 3",
   "language": "python",
   "name": "python3"
  },
  "language_info": {
   "codemirror_mode": {
    "name": "ipython",
    "version": 3
   },
   "file_extension": ".py",
   "mimetype": "text/x-python",
   "name": "python",
   "nbconvert_exporter": "python",
   "pygments_lexer": "ipython3",
   "version": "3.11.7"
  }
 },
 "nbformat": 4,
 "nbformat_minor": 2
}
