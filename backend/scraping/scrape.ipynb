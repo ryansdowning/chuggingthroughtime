{
 "cells": [
  {
   "cell_type": "code",
   "execution_count": 35,
   "metadata": {},
   "outputs": [],
   "source": [
    "from bs4 import BeautifulSoup\n",
    "import requests\n",
    "import os\n",
    "from pathlib import Path\n",
    "\n",
    "path_prefix = \"dump/\"\n",
    "base_url = \"http://www.streamlinerschedules.com/\""
   ]
  },
  {
   "cell_type": "code",
   "execution_count": 12,
   "metadata": {},
   "outputs": [
    {
     "name": "stdout",
     "output_type": "stream",
     "text": [
      "Already downloaded\n"
     ]
    }
   ],
   "source": [
    "def download_track_pages():\n",
    "    track_pages = [f\"concourse/track{i}\" for i in range(1, 13)]\n",
    "    for page in track_pages:\n",
    "        Path(path_prefix + page).mkdir(exist_ok=True, parents=True)\n",
    "        with open(f\"{path_prefix}{page}/index.html\", \"wb+\") as f:\n",
    "            f.write(requests.get(f\"{base_url}{page}/index.html\").content)\n",
    "\n",
    "check_file = Path(f\"{path_prefix}/concourse/track1/index.html\")\n",
    "\n",
    "if check_file.exists() and check_file.stat().st_size > 0:\n",
    "    print(\"Already downloaded\")\n",
    "else:\n",
    "    # download_track_pages()\n",
    "    pass"
   ]
  },
  {
   "cell_type": "code",
   "execution_count": 27,
   "metadata": {},
   "outputs": [],
   "source": [
    "track_pages = [f\"concourse/track{i}/index.html\" for i in range(1, 13)]"
   ]
  },
  {
   "cell_type": "code",
   "execution_count": 28,
   "metadata": {},
   "outputs": [],
   "source": [
    "with open(path_prefix + track_pages[0], \"rb\") as f:\n",
    "    soup = BeautifulSoup(f, \"html.parser\")\n"
   ]
  },
  {
   "cell_type": "code",
   "execution_count": 42,
   "metadata": {},
   "outputs": [],
   "source": [
    "# Returns a list like \"birmspecial194112.html\", \"carolinaspecial196410.html\", etc\n",
    "def get_train_links(soup):\n",
    "    relative_links = []\n",
    "    for a in soup.find_all(\"a\"):\n",
    "        href = a.get(\"href\")\n",
    "        if href is not None and \"..\" not in href and \"http://\" not in href:\n",
    "            relative_links.append(href)\n",
    "    return relative_links\n",
    "\n",
    "def get_link(relative_link, page):\n",
    "    page = page.rstrip(\"index.html\")\n",
    "    return f\"{base_url}{page}{relative_link}\"\n"
   ]
  },
  {
   "cell_type": "code",
   "execution_count": 43,
   "metadata": {},
   "outputs": [
    {
     "name": "stdout",
     "output_type": "stream",
     "text": [
      "concourse/track1/index.html\n",
      "['birmspecial194112.html', 'carolinaspecial196410.html', 'citymemphis195008.html', 'cityneworl194706.html', 'cityneworl197104.html', 'crescent195008.html', 'crescent197104.html', 'crescent197303.html', 'georgewash196706.html', 'georgian196308.html', 'gulfcoastrebel195008.html', 'humbird194706.html', 'humbird196308.html', 'pan-am192701.html', 'pan-am195407.html', 'piedmontltd197303.html', 'powhatan195008.html', 'rebel193809.html', 'rebel195304.html', 'silvercomet194706.html', 'soubelle194106.html', 'soubelle196803.html', 'southerner194112.html', 'tennessean195212.html']\n",
      "concourse/track2/index.html\n",
      "['championec194106.html', 'championwc194106.html', 'champion197104.html', 'citymiami194106.html', 'citymiami197104.html', 'delmarva194310.html', 'dixieflag194106.html', 'floridaspecial194912.html', 'gulfwind194912.html', 'gulfwind197104.html', 'havanaspecial193302.html', 'kcflaspecial196104.html', 'newroyalpalm195103.html', 'orangeblossom194112.html', 'orangeblossom195212.html', 'silverstar197104.html', 'southwind194106.html', 'southwind197104.html']\n",
      "concourse/track3/index.html\n",
      "['blackdiamond194012.html', 'capitolltd194106.html', 'capitolltd196308.html', 'capitolltd197104.html', 'commvandblt194805.html', 'congressionals195212.html', 'crusader193809.html', 'erieltd195103.html', 'federal193809.html', 'federal197104.html', 'flyingyankee193605.html', 'general194812.html', 'general196706.html', 'keystone195607.html', 'knickerbocker194603.html', 'lakecities193809.html', 'lakecities195607.html', 'libertyltd193809.html', 'libertyltd195504.html', 'manhattanltd197104.html', 'merchantsltd193302.html', 'merchantsltd194903.html', 'metroliner197002.html', 'metroliner197104.html', 'nationalltd194106.html', 'nestates195103.html', 'penntexas194812.html', 'phoebe195407.html', 'phoebe196412.html', 'potatoland195407.html', 'royalblue193809.html', 'stlouisan195607.html', 'senator195504.html', 'spiritstlouis194805.html', 'trailblazer194603.html', 'westerner196009.html', 'wolverine195008.html']\n",
      "concourse/track4/index.html\n",
      "['abelincoln195008.html', 'arrow195707.html', 'bluebird195008.html', 'citysalina193809.html', 'cnw400194106.html', 'grndiamond193809.html', 'mercury193809.html', 'minnstl34-195707.html', 'moriveagle194106.html', 'moriveagle197104.html', 'nkpltd195008.html', 'peoriarocket193809.html', 'peremarq194706.html', 'pioneerzeph193809.html', 'thoroughbred195103.html', 'twinzephyrs193809.html', 'twinzephyrs194805.html', 'cannonball195212.html']\n",
      "concourse/track5/index.html\n",
      "['broadway193809.html', 'broadway195607.html', 'broadway196706.html', 'broadway197104.html', 'calzephyr195008.html', 'calzephyr197002.html', 'canadian195607.html', 'canadian197104.html', 'cityla193809.html', 'cityla195607.html', 'cityla195707.html', 'cityla197104.html', 'coastdaylt193809.html', 'coastdaylt197104.html', 'hiawatha193809.html', 'hiawatha195407.html', 'hiawatha195707.html', 'northcoast195904.html', 'northcoast197104.html', 'panamaltd194408.html', 'panamaltd196210.html', 'panamaltd196801.html', 'panamaltd197104.html', 'silvermeteor194106.html', 'silvermeteor195811.html', 'silvermeteor197104.html', 'superchief193809.html', 'superchief195103.html', 'superchief195607.html', 'superchief196706.html', 'superchief197104.html', 'century192701.html', 'century193809.html', 'century195607.html', 'century196706.html', 'mailto:eric@streamlinerschedules.com']\n",
      "concourse/track6/index.html\n",
      "['algomacentral198606.html', 'atlanticltd195705.html', 'gull195407.html', 'internationalltd195502.html', 'internationals195208.html', 'mapleleaf197104.html', 'midnightsun195811.html', 'montrealer196009.html', 'montrealltd196009.html', 'mountaineer195707.html', 'oceanltd195705.html', 'ontarian196506.html', 'redwing195707.html', 'scotian195407.html', 'supercont195607.html']\n",
      "concourse/track7/index.html\n",
      "['buttespl195707.html', 'cascade195008.html', 'cityportland193605.html', 'cityportland195607.html', 'cityportland195707.html', 'empbuilder194706.html', 'empbuilder195607.html', 'goldengate194106.html', 'lark196803.html', 'olympianhi194603.html', 'olympianhi195607.html', 'owl195707.html', 'portland-seattle195208.html', 'portland-seattle195707.html', 'portland-seattle197104.html', 'rogueriver195504.html', 'sandiegan195705.html', 'sanjoaqdaylt194408.html', 'sanjoaqdaylt195707.html', 'sanjoaqdaylt197104.html', 'shastadaylt195008.html', 'spokane195407.html', 'westcoast195707.html', 'westernstar196607.html']\n",
      "concourse/track8/index.html\n",
      "['califltd188901.html', 'califltd191001.html', 'califltd195212.html', 'chief192701.html', 'chief194812.html', 'citydenver194012.html', 'citydenver195707.html', 'citystlouis195707.html', 'citystlouis196706.html', 'citysanfran193809.html', 'citysanfran195707.html', 'citysanfran196906.html', 'coloeagle194408.html', 'coloeagle195707.html', 'denverzephyr193809.html', 'denverzephyr195705.html', 'denverzephyr197104.html', 'elcapitan193809.html', 'elcapitan195607.html', 'grandcanyon194408.html', 'grandcanyon196607.html', 'grandcanyon197104.html', 'losangltd192701.html', 'losangltd195707.html', 'overland186906.html', 'overland192701.html', 'overland195407.html', 'overland195707.html', 'riogrzephyr197104.html', 'rockymtrocket194106.html', 'royalgorge195705.html', 'royalgorge195707.html', 'sanfranchief195407.html', 'sanfranchief196506.html', 'sanfranchief197104.html', 'sanjuan194106.html', 'scout191606.html', 'utahparks195707.html']\n",
      "concourse/track9/index.html\n",
      "['angelo194408.html', 'argonaut195504.html', 'arizonaltd194012.html', 'califspecial194408.html', 'califspecial195407.html', 'califspecial196607.html', 'goldstate191606.html', 'goldstate194812.html', 'goldstate196803.html', 'houstonian195705.html', 'imperial195008.html', 'lonestar195103.html', 'louisianaeagle195208.html', 'meteor194812.html', 'morningstar194106.html', 'ranger194408.html', 'samhouzeph194112.html', 'samhouzeph195008.html', 'sunbeam195008.html', 'sunset195008.html', 'sunset195705.html', 'sunset196009.html', 'sunset196412.html', 'sunset196806.html', 'sunset197104.html', 'texchief194812.html', 'texchief196703.html', 'texchief197104.html', 'texeagle194812.html', 'texeagle195212.html', 'texeagle195810.html', 'texeagle196706.html', 'texspecial194812.html', 'texspecial195705.html', 'texspecial196009.html', 'texzephyr194106.html', 'texzephyr196009.html', 'twinstar194508.html', 'twinstar195707.html', 'twinstar196308.html', 'mailto:eric@streamlinerschedules.com']\n",
      "concourse/track10/index.html\n",
      "['azteceagle195212.html', 'cuba195705.html', 'elchepe196210.html', 'elfronterizo196210.html', 'eltapatio196210.html', 'eltapatio196803.html', 'panamarr194812.html']\n",
      "concourse/track11/index.html\n",
      "['indianpacific198805.html', 'lapplandarrow197512.html', 'orientexpress193908.html', 'orientexpress200906.html', 'ostwest197105.html', 'rheingold196802.html', 'simplonoe196010.html', 'shinkansen199512.html']\n",
      "concourse/track12/index.html\n",
      "['camasprairie195407.html', 'chililine194106.html', 'chippy194912.html', 'georgia197104.html', 'lirrcannonball197104.html', 'atsf7172196806.html', 'silverton194106.html', 'silverton195008.html', 'steptoe194106.html', 'vatruckee192701.html', 'wbts193809.html']\n"
     ]
    }
   ],
   "source": [
    "for page in track_pages:\n",
    "    print(page)\n",
    "    with open(path_prefix + page, \"rb\") as f:\n",
    "        soup = BeautifulSoup(f, \"html.parser\")\n",
    "        links = get_train_links(soup)\n",
    "        print(links)\n"
   ]
  },
  {
   "cell_type": "code",
   "execution_count": 44,
   "metadata": {},
   "outputs": [
    {
     "name": "stdout",
     "output_type": "stream",
     "text": [
      "['http://www.streamlinerschedules.com/concourse/track1/birmspecial194112.html', 'http://www.streamlinerschedules.com/concourse/track1/carolinaspecial196410.html', 'http://www.streamlinerschedules.com/concourse/track1/citymemphis195008.html', 'http://www.streamlinerschedules.com/concourse/track1/cityneworl194706.html', 'http://www.streamlinerschedules.com/concourse/track1/cityneworl197104.html', 'http://www.streamlinerschedules.com/concourse/track1/crescent195008.html', 'http://www.streamlinerschedules.com/concourse/track1/crescent197104.html', 'http://www.streamlinerschedules.com/concourse/track1/crescent197303.html', 'http://www.streamlinerschedules.com/concourse/track1/georgewash196706.html', 'http://www.streamlinerschedules.com/concourse/track1/georgian196308.html', 'http://www.streamlinerschedules.com/concourse/track1/gulfcoastrebel195008.html', 'http://www.streamlinerschedules.com/concourse/track1/humbird194706.html', 'http://www.streamlinerschedules.com/concourse/track1/humbird196308.html', 'http://www.streamlinerschedules.com/concourse/track1/pan-am192701.html', 'http://www.streamlinerschedules.com/concourse/track1/pan-am195407.html', 'http://www.streamlinerschedules.com/concourse/track1/piedmontltd197303.html', 'http://www.streamlinerschedules.com/concourse/track1/powhatan195008.html', 'http://www.streamlinerschedules.com/concourse/track1/rebel193809.html', 'http://www.streamlinerschedules.com/concourse/track1/rebel195304.html', 'http://www.streamlinerschedules.com/concourse/track1/silvercomet194706.html', 'http://www.streamlinerschedules.com/concourse/track1/soubelle194106.html', 'http://www.streamlinerschedules.com/concourse/track1/soubelle196803.html', 'http://www.streamlinerschedules.com/concourse/track1/southerner194112.html', 'http://www.streamlinerschedules.com/concourse/track1/tennessean195212.html']\n"
     ]
    }
   ],
   "source": [
    "with open(path_prefix + track_pages[0], \"rb\") as f:\n",
    "    soup = BeautifulSoup(f, \"html.parser\")\n",
    "    links = get_train_links(soup)\n",
    "    print([get_link(link, track_pages[0]) for link in links])\n"
   ]
  },
  {
   "cell_type": "code",
   "execution_count": 46,
   "metadata": {},
   "outputs": [],
   "source": [
    "def read_child_pages(page):\n",
    "    with open(path_prefix + page, \"rb\") as f:\n",
    "        soup = BeautifulSoup(f, \"html.parser\")\n",
    "        links = get_train_links(soup)\n",
    "        for link in links:\n",
    "            with open(f\"{path_prefix}{page.rstrip('index.html')}/{link}\", \"wb+\") as f:\n",
    "                f.write(requests.get(get_link(link, page)).content)\n",
    "\n"
   ]
  },
  {
   "cell_type": "code",
   "execution_count": 47,
   "metadata": {},
   "outputs": [
    {
     "data": {
      "text/plain": [
       "[None, None, None, None, None, None, None, None, None, None, None]"
      ]
     },
     "execution_count": 47,
     "metadata": {},
     "output_type": "execute_result"
    }
   ],
   "source": [
    "[read_child_pages(page) for page in track_pages[1:]]"
   ]
  },
  {
   "cell_type": "code",
   "execution_count": null,
   "metadata": {},
   "outputs": [],
   "source": []
  }
 ],
 "metadata": {
  "kernelspec": {
   "display_name": "Python 3",
   "language": "python",
   "name": "python3"
  },
  "language_info": {
   "codemirror_mode": {
    "name": "ipython",
    "version": 3
   },
   "file_extension": ".py",
   "mimetype": "text/x-python",
   "name": "python",
   "nbconvert_exporter": "python",
   "pygments_lexer": "ipython3",
   "version": "3.11.7"
  }
 },
 "nbformat": 4,
 "nbformat_minor": 2
}
